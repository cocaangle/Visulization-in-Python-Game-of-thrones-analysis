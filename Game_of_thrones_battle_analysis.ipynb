{
 "cells": [
  {
   "cell_type": "markdown",
   "metadata": {},
   "source": [
    "# 五王之战分析 - 冰与火之歌"
   ]
  },
  {
   "cell_type": "markdown",
   "metadata": {},
   "source": [
    "## 简介\n",
    "\n",
    "五王之战（War of the Five Kings）是著名严肃奇幻小说《冰与火之歌》中的著名内战。这是一场规模空前、波及七大王国的内乱。顾名思义，前后共有五人在战争中称王：乔佛里、史坦尼斯、蓝礼均声称自己是铁王座的合法继承人。除此之外，罗柏·史塔克被北境众封臣推选为北境之王，巴隆·葛雷乔伊亦再度掀起独立大旗，欲摆脱铁王座的统治，自称为铁群岛之王。\n",
    "\n"
   ]
  },
  {
   "cell_type": "markdown",
   "metadata": {},
   "source": [
    "本数据集(battles.csv)包含了五王之战期间的战争，它是所有战斗的大集合。该数据是Kaggle中[Game of Thrones](https://www.kaggle.com/mylesoneill/game-of-thrones)的一部分。\n",
    "\n",
    "数据中的变量含义解释：\n",
    "```\n",
    "name: 战争的名称，字符变量。\n",
    "year: 战争发生的年份，数值变量。\n",
    "battle_number: 本数据中的unique id，对应每一场独立的战役，数值变量。\n",
    "attacker_king: 攻击方的国王，\"/\"表示了国王的更换。例如：\"Joffrey/Tommen Baratheon\"意味着Tomen Baratheon继承了Joffrey的王位，分类变量。\n",
    "defender_king: 防守方的国王，分类变量。\n",
    "attacker_1: 攻击方将领，字符变量。\n",
    "attacker_2: 攻击方将领，字符变量。\n",
    "attacker_3: 攻击方将领，字符变量。\n",
    "attacker_4: 攻击方将领，字符变量。\n",
    "defender_1: 防守方将领，字符变量。\n",
    "defender_2: 防守方将领，字符变量。\n",
    "defender_3: 防守方将领，字符变量。\n",
    "defender_4: 防守方将领，字符变量。\n",
    "attacker_outcome: 从攻击方角度来看的战争结果，分别有：win, loss, draw，分类变量。\n",
    "battle_type: 战争的类别。pitched_battle: 双方军队在一个地点相遇并战斗，这也是最基本的战争类别；ambush: 以隐身或诡计为主要攻击手段的战争；siege: 阵地战；razing: 对未设防位置的攻击。分类变量。\n",
    "major_death: 是否有重要人物的死亡，二进制变量。\n",
    "major_capture: 是否有重要人物的被捕，二进制变量。\n",
    "attacker_size: 攻击方力量的大小，并未对骑兵、步兵等士兵种类有所区分，数值变量。\n",
    "defender_size: 防守方力量的大小，并未对骑兵、步兵等士兵种类有所区分，数值变量。\n",
    "attacker_commander: 攻击方的主要指挥官。指挥官的名字中并没有包含头衔，不同的指挥官名字用逗号隔开，字符变量。\n",
    "defender_commander: 防守方的主要指挥官。指挥官的名字中并没有包含头衔，不同的指挥官名字用逗号隔开，字符变量。\n",
    "summer: 战争是否发生于夏天，二进制变量。\n",
    "location: 战争发生的地点，字符变量。\n",
    "region: 战争发生的地域，包括：Beyond the Wall, The North, The Iron Islands, The Riverlands, The Vale of Arryn, The Westerlands, The Crownlands, The Reach, The Stormlands, Dorne，分类变量。\n",
    "note: 注释，字符变量。\n",
    "\n",
    "```"
   ]
  },
  {
   "cell_type": "markdown",
   "metadata": {},
   "source": [
    "## 项目完成指南\n",
    "\n",
    "\n",
    "\n",
    "本项目中的数据分析流程已经给出，但代码将完全由你自己进行书写，如果你无法完成本项目，说明你目前的能力并不足以完成 数据分析(进阶)纳米学位，建议先进行 数据分析（入门）纳米学位的学习，掌握进阶课程的先修知识。\n",
    "\n",
    "对于数据分析过程的记录也是数据分析报告的一个重要部分，你可以自己在需要的位置插入Markdown cell，记录你在数据分析中的关键步骤和推理过程。比如：数据有什么样的特点，统计数据的含义是什么，你从可视化中可以得出什么结论，下一步分析是什么，为什么执行这种分析。如果你无法做到这一点，你也无法通过本项目。\n",
    "\n",
    "\n",
    "> **小贴士**: 像这样的引用部分旨在为学员提供实用指导，帮助学员了解并使用 Jupyter notebook"
   ]
  },
  {
   "cell_type": "markdown",
   "metadata": {},
   "source": [
    "## 提出问题\n",
    "\n",
    "在此项目中，你将以一名数据分析师的身份执行数据的探索性分析。你将了解数据分析过程的基本流程。在你分析数据之前，请先思考几个你需要理解的关于这些战斗的问题，例如，哪一个区域发生了最多的战争？哪一个国王获得了最多的胜利？战争的胜利与否受那些关键因素的影响？\n",
    "\n",
    "**问题**：请写下你感兴趣的问题，请确保这些问题能够由现有的数据进行回答。\n",
    "#Does summer affect win or not?\n",
    "#which type of wars benefit to attacker most?\n",
    "#Which region had the most wars? \n",
    "Does the size of army effect war outcome?\n",
    "\n",
    "\n",
    "**答案**：\n",
    "a. Create bar plot with \"summer\" as x-axis variable and \"attacker_outcome\" as y-axis varible\n",
    "b. Create bar plot wtih \"battle type\" as x-axis variable and \"attacker_outcome\" as y-axis varible\n",
    "c. Create bar plot with \"region\" and \"number of wars\"\n",
    "d. Create scatter plot with defender size and attacker size and group by battle_outcome\n",
    "\n",
    "\n",
    "在提出了问题之后，我们将开始导入数据，并对数据进行探索性分析，来回答上面提出的问题。\n",
    "\n",
    "> **小贴士**: 双击上框，文本就会发生变化，所有格式都会被清除，以便你编辑该文本块。该文本块是用 [Markdown](http://daringfireball.net/projects/markdown/syntax)编写的，该语言使用纯文本语法，能用页眉、链接、斜体等来规范文本格式。在纳米学位课程中，你也会用到 Markdown。编辑后，可使用 **Shift** + **Enter** 或 **Shift** + **Return** 运行上该框，使其呈现出编辑好的文本格式。"
   ]
  },
  {
   "cell_type": "markdown",
   "metadata": {},
   "source": [
    "## 数据评估和清理"
   ]
  },
  {
   "cell_type": "markdown",
   "metadata": {},
   "source": [
    "> **小贴士**: 运行代码框的方法与编辑上方的 Markdown 框的格式类似，你只需点击代码框，按下键盘快捷键 **Shift** + **Enter** 或 **Shift** + **Return** ，或者你也可先选择代码框，然后点击工具栏的 **运行** 按钮来运行代码。运行代码框时，相应单元左侧的信息会出现星号，即 `In [*]:`，若代码执行完毕，星号则会变为某个数字，如 `In [1]`。如果代码运行后有输出结果，输出将会以 `Out [1]:` 的形式出现，其中的数字将与 \"In\" 中的数字相对应。"
   ]
  },
  {
   "cell_type": "code",
   "execution_count": 1,
   "metadata": {},
   "outputs": [
    {
     "name": "stdout",
     "output_type": "stream",
     "text": [
      "--2018-12-07 02:04:59--  http://d.xiazaiziti.com/en_fonts/fonts/s/SimHei.ttf\n",
      "Resolving d.xiazaiziti.com (d.xiazaiziti.com)... 67.198.189.58\n",
      "Connecting to d.xiazaiziti.com (d.xiazaiziti.com)|67.198.189.58|:80... connected.\n",
      "HTTP request sent, awaiting response... 200 OK\n",
      "Length: 10050868 (9.6M) [application/octet-stream]\n",
      "Saving to: ‘/opt/conda/lib/python3.6/site-packages/matplotlib/mpl-data/fonts/ttf/SimHei.ttf’\n",
      "\n",
      "/opt/conda/lib/pyth 100%[===================>]   9.58M  6.56MB/s    in 1.5s    \n",
      "\n",
      "2018-12-07 02:05:00 (6.56 MB/s) - ‘/opt/conda/lib/python3.6/site-packages/matplotlib/mpl-data/fonts/ttf/SimHei.ttf’ saved [10050868/10050868]\n",
      "\n"
     ]
    }
   ],
   "source": [
    "# 请先运行此代码块，以确保在可视化中可以显示中文\n",
    "!rm -rf ~/.cache/matplotlib/fontList.json\n",
    "!wget http://d.xiazaiziti.com/en_fonts/fonts/s/SimHei.ttf -O /opt/conda/lib/python3.6/site-packages/matplotlib/mpl-data/fonts/ttf/SimHei.ttf\n",
    "import matplotlib.pyplot as plt \n",
    "\n",
    "plt.rcParams['font.sans-serif']=['SimHei'] #用来正常显示中文标签\n",
    "plt.rcParams['axes.unicode_minus']=False #用来正常显示负号"
   ]
  },
  {
   "cell_type": "code",
   "execution_count": 3,
   "metadata": {},
   "outputs": [],
   "source": [
    "# TO DO: load pacakges & dataset\n",
    "import pandas as pd\n",
    "import numpy as np\n",
    "%matplotlib inline\n",
    "battles=pd.read_csv(\"battles.csv\")"
   ]
  },
  {
   "cell_type": "code",
   "execution_count": 8,
   "metadata": {},
   "outputs": [
    {
     "name": "stdout",
     "output_type": "stream",
     "text": [
      "<class 'pandas.core.frame.DataFrame'>\n",
      "RangeIndex: 38 entries, 0 to 37\n",
      "Data columns (total 25 columns):\n",
      "name                  38 non-null object\n",
      "year                  38 non-null int64\n",
      "battle_number         38 non-null int64\n",
      "attacker_king         36 non-null object\n",
      "defender_king         35 non-null object\n",
      "attacker_1            38 non-null object\n",
      "attacker_2            10 non-null object\n",
      "attacker_3            3 non-null object\n",
      "attacker_4            2 non-null object\n",
      "defender_1            37 non-null object\n",
      "defender_2            2 non-null object\n",
      "defender_3            0 non-null float64\n",
      "defender_4            0 non-null float64\n",
      "attacker_outcome      37 non-null object\n",
      "battle_type           37 non-null object\n",
      "major_death           37 non-null float64\n",
      "major_capture         37 non-null float64\n",
      "attacker_size         24 non-null float64\n",
      "defender_size         19 non-null float64\n",
      "attacker_commander    37 non-null object\n",
      "defender_commander    28 non-null object\n",
      "summer                37 non-null float64\n",
      "location              37 non-null object\n",
      "region                38 non-null object\n",
      "note                  5 non-null object\n",
      "dtypes: float64(7), int64(2), object(16)\n",
      "memory usage: 7.5+ KB\n"
     ]
    },
    {
     "data": {
      "text/html": [
       "<div>\n",
       "<style>\n",
       "    .dataframe thead tr:only-child th {\n",
       "        text-align: right;\n",
       "    }\n",
       "\n",
       "    .dataframe thead th {\n",
       "        text-align: left;\n",
       "    }\n",
       "\n",
       "    .dataframe tbody tr th {\n",
       "        vertical-align: top;\n",
       "    }\n",
       "</style>\n",
       "<table border=\"1\" class=\"dataframe\">\n",
       "  <thead>\n",
       "    <tr style=\"text-align: right;\">\n",
       "      <th></th>\n",
       "      <th>year</th>\n",
       "      <th>battle_number</th>\n",
       "      <th>defender_3</th>\n",
       "      <th>defender_4</th>\n",
       "      <th>major_death</th>\n",
       "      <th>major_capture</th>\n",
       "      <th>attacker_size</th>\n",
       "      <th>defender_size</th>\n",
       "      <th>summer</th>\n",
       "    </tr>\n",
       "  </thead>\n",
       "  <tbody>\n",
       "    <tr>\n",
       "      <th>count</th>\n",
       "      <td>38.000000</td>\n",
       "      <td>38.000000</td>\n",
       "      <td>0.0</td>\n",
       "      <td>0.0</td>\n",
       "      <td>37.000000</td>\n",
       "      <td>37.000000</td>\n",
       "      <td>24.000000</td>\n",
       "      <td>19.000000</td>\n",
       "      <td>37.000000</td>\n",
       "    </tr>\n",
       "    <tr>\n",
       "      <th>mean</th>\n",
       "      <td>299.105263</td>\n",
       "      <td>19.500000</td>\n",
       "      <td>NaN</td>\n",
       "      <td>NaN</td>\n",
       "      <td>0.351351</td>\n",
       "      <td>0.297297</td>\n",
       "      <td>9942.541667</td>\n",
       "      <td>6428.157895</td>\n",
       "      <td>0.702703</td>\n",
       "    </tr>\n",
       "    <tr>\n",
       "      <th>std</th>\n",
       "      <td>0.689280</td>\n",
       "      <td>11.113055</td>\n",
       "      <td>NaN</td>\n",
       "      <td>NaN</td>\n",
       "      <td>0.483978</td>\n",
       "      <td>0.463373</td>\n",
       "      <td>20283.092065</td>\n",
       "      <td>6225.182106</td>\n",
       "      <td>0.463373</td>\n",
       "    </tr>\n",
       "    <tr>\n",
       "      <th>min</th>\n",
       "      <td>298.000000</td>\n",
       "      <td>1.000000</td>\n",
       "      <td>NaN</td>\n",
       "      <td>NaN</td>\n",
       "      <td>0.000000</td>\n",
       "      <td>0.000000</td>\n",
       "      <td>20.000000</td>\n",
       "      <td>100.000000</td>\n",
       "      <td>0.000000</td>\n",
       "    </tr>\n",
       "    <tr>\n",
       "      <th>25%</th>\n",
       "      <td>299.000000</td>\n",
       "      <td>10.250000</td>\n",
       "      <td>NaN</td>\n",
       "      <td>NaN</td>\n",
       "      <td>0.000000</td>\n",
       "      <td>0.000000</td>\n",
       "      <td>1375.000000</td>\n",
       "      <td>1070.000000</td>\n",
       "      <td>0.000000</td>\n",
       "    </tr>\n",
       "    <tr>\n",
       "      <th>50%</th>\n",
       "      <td>299.000000</td>\n",
       "      <td>19.500000</td>\n",
       "      <td>NaN</td>\n",
       "      <td>NaN</td>\n",
       "      <td>0.000000</td>\n",
       "      <td>0.000000</td>\n",
       "      <td>4000.000000</td>\n",
       "      <td>6000.000000</td>\n",
       "      <td>1.000000</td>\n",
       "    </tr>\n",
       "    <tr>\n",
       "      <th>75%</th>\n",
       "      <td>300.000000</td>\n",
       "      <td>28.750000</td>\n",
       "      <td>NaN</td>\n",
       "      <td>NaN</td>\n",
       "      <td>1.000000</td>\n",
       "      <td>1.000000</td>\n",
       "      <td>8250.000000</td>\n",
       "      <td>10000.000000</td>\n",
       "      <td>1.000000</td>\n",
       "    </tr>\n",
       "    <tr>\n",
       "      <th>max</th>\n",
       "      <td>300.000000</td>\n",
       "      <td>38.000000</td>\n",
       "      <td>NaN</td>\n",
       "      <td>NaN</td>\n",
       "      <td>1.000000</td>\n",
       "      <td>1.000000</td>\n",
       "      <td>100000.000000</td>\n",
       "      <td>20000.000000</td>\n",
       "      <td>1.000000</td>\n",
       "    </tr>\n",
       "  </tbody>\n",
       "</table>\n",
       "</div>"
      ],
      "text/plain": [
       "             year  battle_number  defender_3  defender_4  major_death  \\\n",
       "count   38.000000      38.000000         0.0         0.0    37.000000   \n",
       "mean   299.105263      19.500000         NaN         NaN     0.351351   \n",
       "std      0.689280      11.113055         NaN         NaN     0.483978   \n",
       "min    298.000000       1.000000         NaN         NaN     0.000000   \n",
       "25%    299.000000      10.250000         NaN         NaN     0.000000   \n",
       "50%    299.000000      19.500000         NaN         NaN     0.000000   \n",
       "75%    300.000000      28.750000         NaN         NaN     1.000000   \n",
       "max    300.000000      38.000000         NaN         NaN     1.000000   \n",
       "\n",
       "       major_capture  attacker_size  defender_size     summer  \n",
       "count      37.000000      24.000000      19.000000  37.000000  \n",
       "mean        0.297297    9942.541667    6428.157895   0.702703  \n",
       "std         0.463373   20283.092065    6225.182106   0.463373  \n",
       "min         0.000000      20.000000     100.000000   0.000000  \n",
       "25%         0.000000    1375.000000    1070.000000   0.000000  \n",
       "50%         0.000000    4000.000000    6000.000000   1.000000  \n",
       "75%         1.000000    8250.000000   10000.000000   1.000000  \n",
       "max         1.000000  100000.000000   20000.000000   1.000000  "
      ]
     },
     "execution_count": 8,
     "metadata": {},
     "output_type": "execute_result"
    }
   ],
   "source": [
    "# TO DO: check the dataset general info\n",
    "battles.info()\n",
    "battles.describe()\n"
   ]
  },
  {
   "cell_type": "code",
   "execution_count": 13,
   "metadata": {},
   "outputs": [
    {
     "data": {
      "text/html": [
       "<div>\n",
       "<style>\n",
       "    .dataframe thead tr:only-child th {\n",
       "        text-align: right;\n",
       "    }\n",
       "\n",
       "    .dataframe thead th {\n",
       "        text-align: left;\n",
       "    }\n",
       "\n",
       "    .dataframe tbody tr th {\n",
       "        vertical-align: top;\n",
       "    }\n",
       "</style>\n",
       "<table border=\"1\" class=\"dataframe\">\n",
       "  <thead>\n",
       "    <tr style=\"text-align: right;\">\n",
       "      <th></th>\n",
       "      <th>name</th>\n",
       "      <th>year</th>\n",
       "      <th>battle_number</th>\n",
       "      <th>attacker_king</th>\n",
       "      <th>defender_king</th>\n",
       "      <th>attacker_1</th>\n",
       "      <th>attacker_2</th>\n",
       "      <th>attacker_3</th>\n",
       "      <th>attacker_4</th>\n",
       "      <th>defender_1</th>\n",
       "      <th>...</th>\n",
       "      <th>major_death</th>\n",
       "      <th>major_capture</th>\n",
       "      <th>attacker_size</th>\n",
       "      <th>defender_size</th>\n",
       "      <th>attacker_commander</th>\n",
       "      <th>defender_commander</th>\n",
       "      <th>summer</th>\n",
       "      <th>location</th>\n",
       "      <th>region</th>\n",
       "      <th>note</th>\n",
       "    </tr>\n",
       "  </thead>\n",
       "  <tbody>\n",
       "    <tr>\n",
       "      <th>0</th>\n",
       "      <td>Battle of the Golden Tooth</td>\n",
       "      <td>1970-01-01 00:00:00.000000298</td>\n",
       "      <td>1</td>\n",
       "      <td>Joffrey/Tommen Baratheon</td>\n",
       "      <td>Robb Stark</td>\n",
       "      <td>Lannister</td>\n",
       "      <td>NaN</td>\n",
       "      <td>NaN</td>\n",
       "      <td>NaN</td>\n",
       "      <td>Tully</td>\n",
       "      <td>...</td>\n",
       "      <td>1.0</td>\n",
       "      <td>0.0</td>\n",
       "      <td>15000.0</td>\n",
       "      <td>4000.0</td>\n",
       "      <td>Jaime Lannister</td>\n",
       "      <td>Clement Piper, Vance</td>\n",
       "      <td>1.0</td>\n",
       "      <td>Golden Tooth</td>\n",
       "      <td>The Westerlands</td>\n",
       "      <td>NaN</td>\n",
       "    </tr>\n",
       "    <tr>\n",
       "      <th>1</th>\n",
       "      <td>Battle at the Mummer's Ford</td>\n",
       "      <td>1970-01-01 00:00:00.000000298</td>\n",
       "      <td>2</td>\n",
       "      <td>Joffrey/Tommen Baratheon</td>\n",
       "      <td>Robb Stark</td>\n",
       "      <td>Lannister</td>\n",
       "      <td>NaN</td>\n",
       "      <td>NaN</td>\n",
       "      <td>NaN</td>\n",
       "      <td>Baratheon</td>\n",
       "      <td>...</td>\n",
       "      <td>1.0</td>\n",
       "      <td>0.0</td>\n",
       "      <td>NaN</td>\n",
       "      <td>120.0</td>\n",
       "      <td>Gregor Clegane</td>\n",
       "      <td>Beric Dondarrion</td>\n",
       "      <td>1.0</td>\n",
       "      <td>Mummer's Ford</td>\n",
       "      <td>The Riverlands</td>\n",
       "      <td>NaN</td>\n",
       "    </tr>\n",
       "    <tr>\n",
       "      <th>2</th>\n",
       "      <td>Battle of Riverrun</td>\n",
       "      <td>1970-01-01 00:00:00.000000298</td>\n",
       "      <td>3</td>\n",
       "      <td>Joffrey/Tommen Baratheon</td>\n",
       "      <td>Robb Stark</td>\n",
       "      <td>Lannister</td>\n",
       "      <td>NaN</td>\n",
       "      <td>NaN</td>\n",
       "      <td>NaN</td>\n",
       "      <td>Tully</td>\n",
       "      <td>...</td>\n",
       "      <td>0.0</td>\n",
       "      <td>1.0</td>\n",
       "      <td>15000.0</td>\n",
       "      <td>10000.0</td>\n",
       "      <td>Jaime Lannister, Andros Brax</td>\n",
       "      <td>Edmure Tully, Tytos Blackwood</td>\n",
       "      <td>1.0</td>\n",
       "      <td>Riverrun</td>\n",
       "      <td>The Riverlands</td>\n",
       "      <td>NaN</td>\n",
       "    </tr>\n",
       "    <tr>\n",
       "      <th>3</th>\n",
       "      <td>Battle of the Green Fork</td>\n",
       "      <td>1970-01-01 00:00:00.000000298</td>\n",
       "      <td>4</td>\n",
       "      <td>Robb Stark</td>\n",
       "      <td>Joffrey/Tommen Baratheon</td>\n",
       "      <td>Stark</td>\n",
       "      <td>NaN</td>\n",
       "      <td>NaN</td>\n",
       "      <td>NaN</td>\n",
       "      <td>Lannister</td>\n",
       "      <td>...</td>\n",
       "      <td>1.0</td>\n",
       "      <td>1.0</td>\n",
       "      <td>18000.0</td>\n",
       "      <td>20000.0</td>\n",
       "      <td>Roose Bolton, Wylis Manderly, Medger Cerwyn, H...</td>\n",
       "      <td>Tywin Lannister, Gregor Clegane, Kevan Lannist...</td>\n",
       "      <td>1.0</td>\n",
       "      <td>Green Fork</td>\n",
       "      <td>The Riverlands</td>\n",
       "      <td>NaN</td>\n",
       "    </tr>\n",
       "    <tr>\n",
       "      <th>4</th>\n",
       "      <td>Battle of the Whispering Wood</td>\n",
       "      <td>1970-01-01 00:00:00.000000298</td>\n",
       "      <td>5</td>\n",
       "      <td>Robb Stark</td>\n",
       "      <td>Joffrey/Tommen Baratheon</td>\n",
       "      <td>Stark</td>\n",
       "      <td>Tully</td>\n",
       "      <td>NaN</td>\n",
       "      <td>NaN</td>\n",
       "      <td>Lannister</td>\n",
       "      <td>...</td>\n",
       "      <td>1.0</td>\n",
       "      <td>1.0</td>\n",
       "      <td>1875.0</td>\n",
       "      <td>6000.0</td>\n",
       "      <td>Robb Stark, Brynden Tully</td>\n",
       "      <td>Jaime Lannister</td>\n",
       "      <td>1.0</td>\n",
       "      <td>Whispering Wood</td>\n",
       "      <td>The Riverlands</td>\n",
       "      <td>NaN</td>\n",
       "    </tr>\n",
       "  </tbody>\n",
       "</table>\n",
       "<p>5 rows × 25 columns</p>\n",
       "</div>"
      ],
      "text/plain": [
       "                            name                          year  battle_number  \\\n",
       "0     Battle of the Golden Tooth 1970-01-01 00:00:00.000000298              1   \n",
       "1    Battle at the Mummer's Ford 1970-01-01 00:00:00.000000298              2   \n",
       "2             Battle of Riverrun 1970-01-01 00:00:00.000000298              3   \n",
       "3       Battle of the Green Fork 1970-01-01 00:00:00.000000298              4   \n",
       "4  Battle of the Whispering Wood 1970-01-01 00:00:00.000000298              5   \n",
       "\n",
       "              attacker_king             defender_king attacker_1 attacker_2  \\\n",
       "0  Joffrey/Tommen Baratheon                Robb Stark  Lannister        NaN   \n",
       "1  Joffrey/Tommen Baratheon                Robb Stark  Lannister        NaN   \n",
       "2  Joffrey/Tommen Baratheon                Robb Stark  Lannister        NaN   \n",
       "3                Robb Stark  Joffrey/Tommen Baratheon      Stark        NaN   \n",
       "4                Robb Stark  Joffrey/Tommen Baratheon      Stark      Tully   \n",
       "\n",
       "  attacker_3 attacker_4 defender_1 ...  major_death  major_capture  \\\n",
       "0        NaN        NaN      Tully ...          1.0            0.0   \n",
       "1        NaN        NaN  Baratheon ...          1.0            0.0   \n",
       "2        NaN        NaN      Tully ...          0.0            1.0   \n",
       "3        NaN        NaN  Lannister ...          1.0            1.0   \n",
       "4        NaN        NaN  Lannister ...          1.0            1.0   \n",
       "\n",
       "   attacker_size defender_size  \\\n",
       "0        15000.0        4000.0   \n",
       "1            NaN         120.0   \n",
       "2        15000.0       10000.0   \n",
       "3        18000.0       20000.0   \n",
       "4         1875.0        6000.0   \n",
       "\n",
       "                                  attacker_commander  \\\n",
       "0                                    Jaime Lannister   \n",
       "1                                     Gregor Clegane   \n",
       "2                       Jaime Lannister, Andros Brax   \n",
       "3  Roose Bolton, Wylis Manderly, Medger Cerwyn, H...   \n",
       "4                          Robb Stark, Brynden Tully   \n",
       "\n",
       "                                  defender_commander  summer         location  \\\n",
       "0                               Clement Piper, Vance     1.0     Golden Tooth   \n",
       "1                                   Beric Dondarrion     1.0    Mummer's Ford   \n",
       "2                      Edmure Tully, Tytos Blackwood     1.0         Riverrun   \n",
       "3  Tywin Lannister, Gregor Clegane, Kevan Lannist...     1.0       Green Fork   \n",
       "4                                    Jaime Lannister     1.0  Whispering Wood   \n",
       "\n",
       "            region note  \n",
       "0  The Westerlands  NaN  \n",
       "1   The Riverlands  NaN  \n",
       "2   The Riverlands  NaN  \n",
       "3   The Riverlands  NaN  \n",
       "4   The Riverlands  NaN  \n",
       "\n",
       "[5 rows x 25 columns]"
      ]
     },
     "execution_count": 13,
     "metadata": {},
     "output_type": "execute_result"
    }
   ],
   "source": [
    "battles.head()"
   ]
  },
  {
   "cell_type": "code",
   "execution_count": 10,
   "metadata": {},
   "outputs": [
    {
     "data": {
      "text/plain": [
       "0     False\n",
       "1     False\n",
       "2     False\n",
       "3     False\n",
       "4     False\n",
       "5     False\n",
       "6     False\n",
       "7     False\n",
       "8     False\n",
       "9     False\n",
       "10    False\n",
       "11    False\n",
       "12    False\n",
       "13    False\n",
       "14    False\n",
       "15    False\n",
       "16    False\n",
       "17    False\n",
       "18    False\n",
       "19    False\n",
       "20    False\n",
       "21    False\n",
       "22    False\n",
       "23    False\n",
       "24    False\n",
       "25    False\n",
       "26    False\n",
       "27    False\n",
       "28    False\n",
       "29    False\n",
       "30    False\n",
       "31    False\n",
       "32    False\n",
       "33    False\n",
       "34    False\n",
       "35    False\n",
       "36    False\n",
       "37    False\n",
       "dtype: bool"
      ]
     },
     "execution_count": 10,
     "metadata": {},
     "output_type": "execute_result"
    }
   ],
   "source": [
    "# check whethere there's duplications or not\n",
    "battles.duplicated()"
   ]
  },
  {
   "cell_type": "markdown",
   "metadata": {},
   "source": [
    "From above, we can see the main problems are NA values and the type of \"year\" should be \"datetime\" instead of \"object\". The good thing is that there's no duplications in this dataset."
   ]
  },
  {
   "cell_type": "code",
   "execution_count": 11,
   "metadata": {},
   "outputs": [],
   "source": [
    "# TO DO: clean the data (optional: only there are problems)\n",
    "#change the type of year into datetime\n",
    "battles[\"year\"]=pd.to_datetime(battles[\"year\"])"
   ]
  },
  {
   "cell_type": "code",
   "execution_count": 20,
   "metadata": {},
   "outputs": [
    {
     "data": {
      "text/plain": [
       "(38, 18)"
      ]
     },
     "execution_count": 20,
     "metadata": {},
     "output_type": "execute_result"
    }
   ],
   "source": [
    "#Deal with NA values\n",
    "#a. Delete those columns with more than 70% values are NA( those columns are attacker2,3,4,defender 2,3,4,note)\n",
    "battles=battles.drop(battles.columns[[6,7,8,10,11,12,24]],axis=1)\n",
    "battles.shape\n"
   ]
  },
  {
   "cell_type": "code",
   "execution_count": 36,
   "metadata": {},
   "outputs": [],
   "source": [
    "#b.for summer variable, we need to change it to object type and then fill it with backward/forward values\n",
    "\n",
    "battles[\"summer\"]=battles[\"summer\"].astype(\"object\")\n",
    "battles[\"summer\"]=battles[\"summer\"].fillna(method=\"pad\",limit=1)\n"
   ]
  },
  {
   "cell_type": "code",
   "execution_count": 42,
   "metadata": {},
   "outputs": [],
   "source": [
    "#c.For defender size and attacker size, we could use mean to replace the missing values\n",
    "mean1=battles[\"attacker_size\"].mean()\n",
    "battles[\"attacker_size\"]=battles[\"attacker_size\"].fillna(mean1)\n",
    "mean2=battles[\"defender_size\"].mean()\n",
    "battles[\"defender_size\"]=battles[\"defender_size\"].fillna(mean2)"
   ]
  },
  {
   "cell_type": "code",
   "execution_count": 47,
   "metadata": {},
   "outputs": [
    {
     "name": "stdout",
     "output_type": "stream",
     "text": [
      "<class 'pandas.core.frame.DataFrame'>\n",
      "RangeIndex: 38 entries, 0 to 37\n",
      "Data columns (total 18 columns):\n",
      "name                  38 non-null object\n",
      "year                  38 non-null datetime64[ns]\n",
      "battle_number         38 non-null int64\n",
      "attacker_king         36 non-null object\n",
      "defender_king         35 non-null object\n",
      "attacker_1            38 non-null object\n",
      "defender_1            37 non-null object\n",
      "attacker_outcome      37 non-null object\n",
      "battle_type           38 non-null object\n",
      "major_death           37 non-null float64\n",
      "major_capture         37 non-null float64\n",
      "attacker_size         38 non-null float64\n",
      "defender_size         38 non-null float64\n",
      "attacker_commander    37 non-null object\n",
      "defender_commander    28 non-null object\n",
      "summer                38 non-null object\n",
      "location              37 non-null object\n",
      "region                38 non-null object\n",
      "dtypes: datetime64[ns](1), float64(4), int64(1), object(12)\n",
      "memory usage: 5.4+ KB\n"
     ]
    }
   ],
   "source": [
    "#d. For battle_type, we use pitched battle to fill missing values since there's very tiny effect for it increase 1 .\n",
    "battles[\"battle_type\"].value_counts()\n",
    "battles[\"battle_type\"]=battles[\"battle_type\"].fillna(\"pitchced battle\")\n",
    "battles.info()"
   ]
  },
  {
   "cell_type": "markdown",
   "metadata": {},
   "source": [
    "There are still some NA values in other variables, but most of them we are not going to use in our analysis, so just leave them as they are like."
   ]
  },
  {
   "cell_type": "markdown",
   "metadata": {},
   "source": [
    "## 数据探索分析"
   ]
  },
  {
   "cell_type": "code",
   "execution_count": 52,
   "metadata": {},
   "outputs": [
    {
     "data": {
      "text/plain": [
       "<matplotlib.axes._subplots.AxesSubplot at 0x7fe7be2bbf60>"
      ]
     },
     "execution_count": 52,
     "metadata": {},
     "output_type": "execute_result"
    },
    {
     "data": {
      "image/png": "[encoded data removed]",
      "text/plain": [
       "<matplotlib.figure.Figure at 0x7fe7bc0b20b8>"
      ]
     },
     "metadata": {
      "needs_background": "light"
     },
     "output_type": "display_data"
    }
   ],
   "source": [
    "# In exploratory data analysis, please make sure of using statistics and visualizations\n",
    "#Summer VS acttacker_outcome\n",
    "battles.groupby(['attacker_outcome','summer'])['attacker_outcome'].count().unstack(0).plot.bar()"
   ]
  },
  {
   "cell_type": "markdown",
   "metadata": {},
   "source": [
    "Since (the count of loss/count of win not in summer )> (the count of loss/count of win in summer), we could see when the war happened in summer, it is more likely to win for attacker side"
   ]
  },
  {
   "cell_type": "code",
   "execution_count": 53,
   "metadata": {},
   "outputs": [
    {
     "data": {
      "text/plain": [
       "<matplotlib.axes._subplots.AxesSubplot at 0x7fe7bc03bd68>"
      ]
     },
     "execution_count": 53,
     "metadata": {},
     "output_type": "execute_result"
    },
    {
     "data": {
      "image/png": "[encoded data removed]",
      "text/plain": [
       "<matplotlib.figure.Figure at 0x7fe7bc07d2e8>"
      ]
     },
     "metadata": {
      "needs_background": "light"
     },
     "output_type": "display_data"
    }
   ],
   "source": [
    "#Battle_type VS attacker_outcome\n",
    "battles.groupby(['attacker_outcome','battle_type'])['attacker_outcome'].count().unstack(0).plot.bar()"
   ]
  },
  {
   "cell_type": "markdown",
   "metadata": {},
   "source": [
    "We can see when the battle type is ambush and razing, the attacker could always win; when it is siege, the attacker had a very large probability to win(90%)from our dataset; and pitched battle seems hard for attacker."
   ]
  },
  {
   "cell_type": "code",
   "execution_count": 70,
   "metadata": {},
   "outputs": [
    {
     "data": {
      "text/plain": [
       "<matplotlib.axes._subplots.AxesSubplot at 0x7fe7bb7ea908>"
      ]
     },
     "execution_count": 70,
     "metadata": {},
     "output_type": "execute_result"
    },
    {
     "data": {
      "image/png": "[encoded data removed]",
      "text/plain": [
       "<matplotlib.figure.Figure at 0x7fe7bb7db320>"
      ]
     },
     "metadata": {
      "needs_background": "light"
     },
     "output_type": "display_data"
    }
   ],
   "source": [
    "#Which Region had the most wars?\n",
    "battles.groupby(\"region\")[\"battle_number\"].sum().sort_values().plot.bar()"
   ]
  },
  {
   "cell_type": "markdown",
   "metadata": {},
   "source": [
    "From above, we can see the riverlands has the most wars, far more than the 2nd highest number of wars's region,the north"
   ]
  },
  {
   "cell_type": "code",
   "execution_count": 78,
   "metadata": {},
   "outputs": [
    {
     "data": {
      "text/plain": [
       "<seaborn.axisgrid.PairGrid at 0x7fe7bb7cb8d0>"
      ]
     },
     "execution_count": 78,
     "metadata": {},
     "output_type": "execute_result"
    },
    {
     "data": {
      "image/png": "[encoded data removed]",
      "text/plain": [
       "<matplotlib.figure.Figure at 0x7fe7b2a1a1d0>"
      ]
     },
     "metadata": {
      "needs_background": "light"
     },
     "output_type": "display_data"
    }
   ],
   "source": [
    "#Does the size of army affect war outcome?\n",
    "import seaborn as sns\n",
    "sns.pairplot(x_vars=[\"defender_size\"], y_vars=[\"attacker_size\"], data=battles, hue=\"attacker_outcome\",size=5)"
   ]
  },
  {
   "cell_type": "markdown",
   "metadata": {},
   "source": [
    "We can see there's no very outstanding relationship between army size and war outcome, even a much smaller size of one side can win the other."
   ]
  },
  {
   "cell_type": "markdown",
   "metadata": {},
   "source": [
    "在数据的探索性分析中，请确保你对数据分析中的关键步骤和推理过程进行了记录。你可以自己插入code cell和markdown cell来组织你的报告。\n"
   ]
  },
  {
   "cell_type": "markdown",
   "metadata": {},
   "source": [
    "## 得出结论"
   ]
  },
  {
   "cell_type": "markdown",
   "metadata": {},
   "source": [
    "**问题**：上面的分析能够回答你提出的问题？通过这些分析你能够得出哪些结论？\n",
    "\n",
    "**答案**：Yes, the above visualisation can answer all of my question, the conclusions are as follows:\n",
    "a. When the war happens in summer, attacker side is more likely to win\n",
    "b. The attacker side had advantage in the battle of ambush and razin type\n",
    "c. The riverlands happened most wars, far more than the 2nd highest number of war region, the North\n",
    "d. The size of army has almost no effect on the outcome of the war. "
   ]
  },
  {
   "cell_type": "markdown",
   "metadata": {},
   "source": [
    "## 反思"
   ]
  },
  {
   "cell_type": "markdown",
   "metadata": {},
   "source": [
    "**问题**：在你的分析和总结过程中是否存在逻辑严谨。是否有改进的空间? 你可以从下面的一些角度进行思考：\n",
    "1. 数据集是否完整，包含所有想要分析的数据？\n",
    "2. 在对数据进行处理的时候，你的操作（例如删除/填充缺失值）是否可能影响结论？\n",
    "3. 是否还有其他变量（本数据中没有）能够对你的分析有帮助？\n",
    "4. 在得出结论时，你是否混淆了相关性和因果性？\n",
    "\n",
    "**答案**：1. The dataset is not very complete, for many variables have too much NA values, which can be only deleted. But the good thing is that those variables are not needed in my analysis for this time.\n",
    " 2. Yes, for example, for defender and attacker size, I use mean to fill the missing values, but I don't think this is a good way, coz the number of missing values and the number of non-null values are very close.\n",
    " 3. I think the weapon, tactical could also have effect on war outcome\n",
    " 4. Yeah, I think so. For example, not necessarily it is summer that attacker win, this is not a cause and effect relationship; there maybe other factors like food, the emotion of the army etc. help they win, so summer has correlation with the outcome of war, but not the causation."
   ]
  },
  {
   "cell_type": "markdown",
   "metadata": {},
   "source": [
    "恭喜你完成了此项目！这只是数据分析过程的一个样本：从生成问题、整理数据、探索数据到得出结论。在数据分析(进阶)纳米学位中，你将会学到更多高级的数据分析方法和技术，如果你感兴趣的话，我们鼓励你继续学习后续的课程，掌握更多的数据分析的高级技能！"
   ]
  },
  {
   "cell_type": "markdown",
   "metadata": {},
   "source": [
    "> 若想与他人分享我们的分析结果，除了向他们提供 jupyter Notebook (.ipynb) 文件的副本外，我们还可以将 Notebook 输出导出为一种甚至那些未安装 Python 的人都能打开的形式。从左上方的“文件”菜单，前往“下载为”子菜单。然后你可以选择一个可以更普遍查看的格式，例如 HTML (.html) 。你可能需要额外软件包或软件来执行这些导出。"
   ]
  },
  {
   "cell_type": "code",
   "execution_count": null,
   "metadata": {
    "collapsed": true
   },
   "outputs": [],
   "source": []
  }
 ],
 "metadata": {
  "kernelspec": {
   "display_name": "Python 3",
   "language": "python",
   "name": "python3"
  },
  "language_info": {
   "codemirror_mode": {
    "name": "ipython",
    "version": 3
   },
   "file_extension": ".py",
   "mimetype": "text/x-python",
   "name": "python",
   "nbconvert_exporter": "python",
   "pygments_lexer": "ipython3",
   "version": "3.6.3"
  }
 },
 "nbformat": 4,
 "nbformat_minor": 2
}
